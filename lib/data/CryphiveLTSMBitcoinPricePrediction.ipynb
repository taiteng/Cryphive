{
  "nbformat": 4,
  "nbformat_minor": 0,
  "metadata": {
    "colab": {
      "provenance": []
    },
    "kernelspec": {
      "name": "python3",
      "display_name": "Python 3"
    },
    "language_info": {
      "name": "python"
    }
  },
  "cells": [
    {
      "cell_type": "markdown",
      "source": [
        "#Packages"
      ],
      "metadata": {
        "id": "majrxfhv_81l"
      }
    },
    {
      "cell_type": "code",
      "execution_count": null,
      "metadata": {
        "id": "wnBNAJomKuDo"
      },
      "outputs": [],
      "source": [
        "import yfinance as yf\n",
        "import os\n",
        "import pandas as pd\n",
        "import numpy as np\n",
        "import math\n",
        "import datetime as dt\n",
        "import requests\n",
        "import matplotlib.pyplot as plt\n",
        "from sklearn.preprocessing import MinMaxScaler\n",
        "from keras.models import Sequential\n",
        "from keras.layers import Dense, LSTM, Dropout"
      ]
    },
    {
      "cell_type": "code",
      "source": [
        "url = 'https://min-api.cryptocompare.com/data/histoday'\n",
        "params = {'fsym': 'BTC', 'tsym': 'USD', 'limit': 2000}\n",
        "\n",
        "response = requests.get(url, params=params)\n",
        "data = response.json()['Data']\n",
        "df = pd.DataFrame(data)\n",
        "df['time'] = pd.to_datetime(df['time'], unit='s')\n",
        "df.set_index('time', inplace=True)\n",
        "\n",
        "start = dt.datetime(2011, 1, 1)\n",
        "end = dt.datetime.now()\n",
        "delta = end - start\n",
        "\n",
        "while delta.days > 0:\n",
        "    if delta.days >= 2000:\n",
        "        date = end - dt.timedelta(days=2000)\n",
        "        params = {'fsym': 'BTC', 'tsym': 'USD', 'limit': 2000,\n",
        "                  'toTs': date.timestamp()}\n",
        "    else:\n",
        "        params = {'fsym': 'BTC', 'tsym': 'USD', 'limit': delta.days,\n",
        "          'toTs': df.index[0].timestamp()}\n",
        "    response = requests.get(url, params=params)\n",
        "    data = response.json()['Data']\n",
        "    df1 = pd.DataFrame(data)\n",
        "    df1['time'] = pd.to_datetime(df1['time'], unit='s')\n",
        "    df1.set_index('time', inplace=True)\n",
        "    delta -= dt.timedelta(days=2000)\n",
        "    df = pd.concat([df1, df], axis=0)\n",
        "btcData = pd.DataFrame(df)\n",
        "btcData"
      ],
      "metadata": {
        "id": "eS1ZKMv5LBQe"
      },
      "execution_count": null,
      "outputs": []
    },
    {
      "cell_type": "markdown",
      "source": [
        "#Check, Clean and Pre-process Data"
      ],
      "metadata": {
        "id": "NDIMdthEABJE"
      }
    },
    {
      "cell_type": "code",
      "source": [
        "btcData = btcData.dropna()"
      ],
      "metadata": {
        "id": "DpqOZQkrAEDH"
      },
      "execution_count": null,
      "outputs": []
    },
    {
      "cell_type": "code",
      "source": [
        "cols =  [\"conversionType\",\"conversionSymbol\",\"volumefrom\"]\n",
        "btcData = btcData.drop(columns = cols,axis = 1)\n",
        "btcData"
      ],
      "metadata": {
        "id": "08NDPuddRRtI"
      },
      "execution_count": null,
      "outputs": []
    },
    {
      "cell_type": "markdown",
      "source": [
        "#Model"
      ],
      "metadata": {
        "id": "dmAZPBPCAWll"
      }
    },
    {
      "cell_type": "code",
      "source": [
        "scaler = MinMaxScaler()\n",
        "data_sc = scaler.fit_transform(btcData['close'].values.reshape(-1,1))"
      ],
      "metadata": {
        "id": "phaGNLSWAc7U"
      },
      "execution_count": null,
      "outputs": []
    },
    {
      "cell_type": "code",
      "source": [
        "prediction_days = 60\n",
        "future_days = 30\n",
        "x_train, y_train = [], []\n",
        "\n",
        "for x in range(prediction_days, len(data_sc)-future_days):\n",
        "    x_train.append(data_sc[x-prediction_days:x, 0])\n",
        "    y_train.append(data_sc[x+future_days,0])\n",
        "x_train, y_train = np.array(x_train), np.array(y_train)\n",
        "x_train  =np.reshape(x_train, (x_train.shape[0], x_train.shape[1], 1))"
      ],
      "metadata": {
        "id": "Ghj1XaY7SCEW"
      },
      "execution_count": null,
      "outputs": []
    },
    {
      "cell_type": "code",
      "source": [
        "model = Sequential()\n",
        "\n",
        "model.add(LSTM(units=50, return_sequences=True, input_shape=(x_train.shape[1],1)))\n",
        "model.add(Dropout(0.2))\n",
        "model.add(LSTM(units=50, return_sequences=True))\n",
        "model.add(Dropout(0.2))\n",
        "model.add(LSTM(units=50))\n",
        "model.add(Dropout(0.2))\n",
        "model.add(Dense(units=30))\n",
        "\n",
        "model.compile(optimizer='adam', loss='mean_squared_error')\n",
        "model.fit(x_train, y_train, epochs=25, batch_size=32)"
      ],
      "metadata": {
        "id": "TUVuzSEBSKrW"
      },
      "execution_count": null,
      "outputs": []
    },
    {
      "cell_type": "code",
      "source": [
        "test_start = '2020-01-01'\n",
        "test_data = btcData.iloc[btcData.index >= test_start].copy()\n",
        "actual_price = test_data['close'].values\n",
        "\n",
        "total_data = pd.concat([btcData['close'], test_data['close']])\n",
        "\n",
        "model_inputs = total_data[len(total_data)-len(test_data)-prediction_days:].values\n",
        "model_inputs = model_inputs.reshape(-1,1)\n",
        "model_inputs = scaler.fit_transform(model_inputs)\n",
        "\n",
        "x_test = []\n",
        "\n",
        "for x in range(prediction_days, len(model_inputs)):\n",
        "    x_test.append(model_inputs[x-prediction_days:x,0])\n",
        "x_test = np.array(x_test)\n",
        "x_test = np.reshape(x_test, (x_test.shape[0], x_test.shape[1],1))\n",
        "\n",
        "prediction_price = model.predict(x_test)\n",
        "prediction_price = scaler.inverse_transform(prediction_price)"
      ],
      "metadata": {
        "id": "pMszhKb1UsR1"
      },
      "execution_count": null,
      "outputs": []
    },
    {
      "cell_type": "code",
      "source": [
        "real_data = [model_inputs[len(model_inputs) + 1 - prediction_days :len(model_inputs)+ 1, 0]]\n",
        "real_data = np.array(real_data)\n",
        "real_data = np.reshape(real_data,(real_data.shape[0],real_data.shape[1], 1))\n",
        "\n",
        "prediction = model.predict(real_data)\n",
        "prediction = scaler.inverse_transform(prediction)\n",
        "\n",
        "prediction = np.reshape(prediction,(future_days))"
      ],
      "metadata": {
        "id": "gOlqyKOaU3Zx"
      },
      "execution_count": null,
      "outputs": []
    },
    {
      "cell_type": "code",
      "source": [
        "print(prediction[0])"
      ],
      "metadata": {
        "colab": {
          "base_uri": "https://localhost:8080/"
        },
        "id": "_uYXsj-jb2zc",
        "outputId": "ef00db2e-614f-4279-91d6-ddd4e44c04a0"
      },
      "execution_count": null,
      "outputs": [
        {
          "output_type": "stream",
          "name": "stdout",
          "text": [
            "26381.838\n"
          ]
        }
      ]
    }
  ]
}